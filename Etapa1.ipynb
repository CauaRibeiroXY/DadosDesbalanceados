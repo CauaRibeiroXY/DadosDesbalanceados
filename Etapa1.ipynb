{
  "nbformat": 4,
  "nbformat_minor": 5,
  "metadata": {
    "kernelspec": {
      "display_name": "Python 3 (ipykernel)",
      "language": "python",
      "name": "python3"
    },
    "language_info": {
      "codemirror_mode": {
        "name": "ipython",
        "version": 3
      },
      "file_extension": ".py",
      "mimetype": "text/x-python",
      "name": "python",
      "nbconvert_exporter": "python",
      "pygments_lexer": "ipython3",
      "version": "3.9.6"
    },
    "colab": {
      "name": "Etapa1.ipynb",
      "provenance": [],
      "collapsed_sections": []
    }
  },
  "cells": [
    {
      "cell_type": "code",
      "metadata": {
        "id": "ac738e81-c8a3-432a-bdd2-39d22e03a530",
        "colab": {
          "base_uri": "https://localhost:8080/"
        },
        "outputId": "eae00f62-9d10-48fc-fb86-a6f01b3f4a7d"
      },
      "source": [
        "pip install scikit-plot"
      ],
      "id": "ac738e81-c8a3-432a-bdd2-39d22e03a530",
      "execution_count": null,
      "outputs": [
        {
          "output_type": "stream",
          "text": [
            "Collecting scikit-plot\n",
            "  Downloading scikit_plot-0.3.7-py3-none-any.whl (33 kB)\n",
            "Requirement already satisfied: scipy>=0.9 in /usr/local/lib/python3.7/dist-packages (from scikit-plot) (1.4.1)\n",
            "Requirement already satisfied: matplotlib>=1.4.0 in /usr/local/lib/python3.7/dist-packages (from scikit-plot) (3.2.2)\n",
            "Requirement already satisfied: scikit-learn>=0.18 in /usr/local/lib/python3.7/dist-packages (from scikit-plot) (0.22.2.post1)\n",
            "Requirement already satisfied: joblib>=0.10 in /usr/local/lib/python3.7/dist-packages (from scikit-plot) (1.0.1)\n",
            "Requirement already satisfied: pyparsing!=2.0.4,!=2.1.2,!=2.1.6,>=2.0.1 in /usr/local/lib/python3.7/dist-packages (from matplotlib>=1.4.0->scikit-plot) (2.4.7)\n",
            "Requirement already satisfied: python-dateutil>=2.1 in /usr/local/lib/python3.7/dist-packages (from matplotlib>=1.4.0->scikit-plot) (2.8.2)\n",
            "Requirement already satisfied: kiwisolver>=1.0.1 in /usr/local/lib/python3.7/dist-packages (from matplotlib>=1.4.0->scikit-plot) (1.3.1)\n",
            "Requirement already satisfied: numpy>=1.11 in /usr/local/lib/python3.7/dist-packages (from matplotlib>=1.4.0->scikit-plot) (1.19.5)\n",
            "Requirement already satisfied: cycler>=0.10 in /usr/local/lib/python3.7/dist-packages (from matplotlib>=1.4.0->scikit-plot) (0.10.0)\n",
            "Requirement already satisfied: six in /usr/local/lib/python3.7/dist-packages (from cycler>=0.10->matplotlib>=1.4.0->scikit-plot) (1.15.0)\n",
            "Installing collected packages: scikit-plot\n",
            "Successfully installed scikit-plot-0.3.7\n"
          ],
          "name": "stdout"
        }
      ]
    },
    {
      "cell_type": "code",
      "metadata": {
        "id": "5c174405-300e-4693-b95a-ab8af8804212"
      },
      "source": [
        "# - Pandas\n",
        "import pandas as pd\n",
        "# - numpy\n",
        "import numpy as np\n",
        "# - seaborn\n",
        "import seaborn as sb\n",
        "# - scikitplot\n",
        "import scikitplot as skplt\n",
        "# - sklearn\n",
        "from sklearn import datasets\n",
        "from sklearn.metrics import classification_report, confusion_matrix\n",
        "from sklearn.model_selection import train_test_split\n",
        "from sklearn.linear_model import LogisticRegression\n",
        "from sklearn.naive_bayes import BernoulliNB\n",
        "from sklearn.neighbors import KNeighborsClassifier\n",
        "from sklearn.metrics import roc_auc_score, roc_curve, accuracy_score\n",
        "from sklearn.tree import DecisionTreeClassifier\n",
        "from sklearn.naive_bayes import CategoricalNB\n",
        "from sklearn.tree import ExtraTreeClassifier\n",
        "from sklearn.discriminant_analysis import QuadraticDiscriminantAnalysis\n",
        "from sklearn.neural_network import MLPClassifier\n",
        "# - imblearn\n",
        "from imblearn.under_sampling import RandomUnderSampler\n",
        "from imblearn.over_sampling import RandomOverSampler\n",
        "\n",
        "import warnings\n",
        "\n",
        "sb.set_style(\"dark\")\n",
        "warnings.filterwarnings('ignore')"
      ],
      "id": "5c174405-300e-4693-b95a-ab8af8804212",
      "execution_count": null,
      "outputs": []
    },
    {
      "cell_type": "code",
      "metadata": {
        "colab": {
          "base_uri": "https://localhost:8080/",
          "height": 206
        },
        "id": "a3a07fcc-b656-4069-8d18-3dfedca4b9df",
        "outputId": "c84cb2f1-11af-4429-d593-ab0b368d2ab7"
      },
      "source": [
        "database = pd.read_csv('cardcredit.csv')\n",
        "database.head()"
      ],
      "id": "a3a07fcc-b656-4069-8d18-3dfedca4b9df",
      "execution_count": null,
      "outputs": [
        {
          "output_type": "execute_result",
          "data": {
            "text/html": [
              "<div>\n",
              "<style scoped>\n",
              "    .dataframe tbody tr th:only-of-type {\n",
              "        vertical-align: middle;\n",
              "    }\n",
              "\n",
              "    .dataframe tbody tr th {\n",
              "        vertical-align: top;\n",
              "    }\n",
              "\n",
              "    .dataframe thead th {\n",
              "        text-align: right;\n",
              "    }\n",
              "</style>\n",
              "<table border=\"1\" class=\"dataframe\">\n",
              "  <thead>\n",
              "    <tr style=\"text-align: right;\">\n",
              "      <th></th>\n",
              "      <th>defaulter</th>\n",
              "      <th>student</th>\n",
              "      <th>balance</th>\n",
              "      <th>income</th>\n",
              "      <th>escolaridade</th>\n",
              "    </tr>\n",
              "  </thead>\n",
              "  <tbody>\n",
              "    <tr>\n",
              "      <th>0</th>\n",
              "      <td>0</td>\n",
              "      <td>0</td>\n",
              "      <td>729.526495</td>\n",
              "      <td>44361.62507</td>\n",
              "      <td>1</td>\n",
              "    </tr>\n",
              "    <tr>\n",
              "      <th>1</th>\n",
              "      <td>0</td>\n",
              "      <td>1</td>\n",
              "      <td>817.180407</td>\n",
              "      <td>12106.13470</td>\n",
              "      <td>4</td>\n",
              "    </tr>\n",
              "    <tr>\n",
              "      <th>2</th>\n",
              "      <td>0</td>\n",
              "      <td>0</td>\n",
              "      <td>1073.549164</td>\n",
              "      <td>31767.13895</td>\n",
              "      <td>2</td>\n",
              "    </tr>\n",
              "    <tr>\n",
              "      <th>3</th>\n",
              "      <td>0</td>\n",
              "      <td>0</td>\n",
              "      <td>529.250605</td>\n",
              "      <td>35704.49394</td>\n",
              "      <td>3</td>\n",
              "    </tr>\n",
              "    <tr>\n",
              "      <th>4</th>\n",
              "      <td>0</td>\n",
              "      <td>0</td>\n",
              "      <td>785.655883</td>\n",
              "      <td>38463.49588</td>\n",
              "      <td>5</td>\n",
              "    </tr>\n",
              "  </tbody>\n",
              "</table>\n",
              "</div>"
            ],
            "text/plain": [
              "   defaulter  student      balance       income  escolaridade\n",
              "0          0        0   729.526495  44361.62507             1\n",
              "1          0        1   817.180407  12106.13470             4\n",
              "2          0        0  1073.549164  31767.13895             2\n",
              "3          0        0   529.250605  35704.49394             3\n",
              "4          0        0   785.655883  38463.49588             5"
            ]
          },
          "metadata": {},
          "execution_count": 4
        }
      ]
    },
    {
      "cell_type": "markdown",
      "metadata": {
        "id": "1aWvgyFg26Lg"
      },
      "source": [
        "1 = Fundamental\n",
        "\n",
        "2 = Ensino Médio\n",
        "\n",
        "3 = Ensino Superior\n",
        "\n",
        "4 = Pós-graduação\n",
        "\n",
        "5 = Mestrado\n",
        "\n",
        "6 = Outros"
      ],
      "id": "1aWvgyFg26Lg"
    },
    {
      "cell_type": "markdown",
      "metadata": {
        "id": "TLbWcDYCHj6Y"
      },
      "source": [
        "<h1>Estatística\n"
      ],
      "id": "TLbWcDYCHj6Y"
    },
    {
      "cell_type": "code",
      "metadata": {
        "colab": {
          "base_uri": "https://localhost:8080/",
          "height": 297
        },
        "id": "VRUr6TQSHqcQ",
        "outputId": "ac35c073-e02f-4a83-be08-015d526645a7"
      },
      "source": [
        "database.describe()"
      ],
      "id": "VRUr6TQSHqcQ",
      "execution_count": null,
      "outputs": [
        {
          "output_type": "execute_result",
          "data": {
            "text/html": [
              "<div>\n",
              "<style scoped>\n",
              "    .dataframe tbody tr th:only-of-type {\n",
              "        vertical-align: middle;\n",
              "    }\n",
              "\n",
              "    .dataframe tbody tr th {\n",
              "        vertical-align: top;\n",
              "    }\n",
              "\n",
              "    .dataframe thead th {\n",
              "        text-align: right;\n",
              "    }\n",
              "</style>\n",
              "<table border=\"1\" class=\"dataframe\">\n",
              "  <thead>\n",
              "    <tr style=\"text-align: right;\">\n",
              "      <th></th>\n",
              "      <th>defaulter</th>\n",
              "      <th>student</th>\n",
              "      <th>balance</th>\n",
              "      <th>income</th>\n",
              "      <th>escolaridade</th>\n",
              "    </tr>\n",
              "  </thead>\n",
              "  <tbody>\n",
              "    <tr>\n",
              "      <th>count</th>\n",
              "      <td>10000.000000</td>\n",
              "      <td>10000.000000</td>\n",
              "      <td>10000.000000</td>\n",
              "      <td>10000.000000</td>\n",
              "      <td>10000.000000</td>\n",
              "    </tr>\n",
              "    <tr>\n",
              "      <th>mean</th>\n",
              "      <td>0.033300</td>\n",
              "      <td>0.294400</td>\n",
              "      <td>835.374886</td>\n",
              "      <td>33516.981876</td>\n",
              "      <td>3.497200</td>\n",
              "    </tr>\n",
              "    <tr>\n",
              "      <th>std</th>\n",
              "      <td>0.179428</td>\n",
              "      <td>0.455795</td>\n",
              "      <td>483.714985</td>\n",
              "      <td>13336.639563</td>\n",
              "      <td>1.699789</td>\n",
              "    </tr>\n",
              "    <tr>\n",
              "      <th>min</th>\n",
              "      <td>0.000000</td>\n",
              "      <td>0.000000</td>\n",
              "      <td>0.000000</td>\n",
              "      <td>771.967729</td>\n",
              "      <td>1.000000</td>\n",
              "    </tr>\n",
              "    <tr>\n",
              "      <th>25%</th>\n",
              "      <td>0.000000</td>\n",
              "      <td>0.000000</td>\n",
              "      <td>481.731105</td>\n",
              "      <td>21340.462905</td>\n",
              "      <td>2.000000</td>\n",
              "    </tr>\n",
              "    <tr>\n",
              "      <th>50%</th>\n",
              "      <td>0.000000</td>\n",
              "      <td>0.000000</td>\n",
              "      <td>823.636973</td>\n",
              "      <td>34552.644800</td>\n",
              "      <td>4.000000</td>\n",
              "    </tr>\n",
              "    <tr>\n",
              "      <th>75%</th>\n",
              "      <td>0.000000</td>\n",
              "      <td>1.000000</td>\n",
              "      <td>1166.308387</td>\n",
              "      <td>43807.729275</td>\n",
              "      <td>5.000000</td>\n",
              "    </tr>\n",
              "    <tr>\n",
              "      <th>max</th>\n",
              "      <td>1.000000</td>\n",
              "      <td>1.000000</td>\n",
              "      <td>2654.322576</td>\n",
              "      <td>73554.233500</td>\n",
              "      <td>6.000000</td>\n",
              "    </tr>\n",
              "  </tbody>\n",
              "</table>\n",
              "</div>"
            ],
            "text/plain": [
              "          defaulter       student       balance        income  escolaridade\n",
              "count  10000.000000  10000.000000  10000.000000  10000.000000  10000.000000\n",
              "mean       0.033300      0.294400    835.374886  33516.981876      3.497200\n",
              "std        0.179428      0.455795    483.714985  13336.639563      1.699789\n",
              "min        0.000000      0.000000      0.000000    771.967729      1.000000\n",
              "25%        0.000000      0.000000    481.731105  21340.462905      2.000000\n",
              "50%        0.000000      0.000000    823.636973  34552.644800      4.000000\n",
              "75%        0.000000      1.000000   1166.308387  43807.729275      5.000000\n",
              "max        1.000000      1.000000   2654.322576  73554.233500      6.000000"
            ]
          },
          "metadata": {},
          "execution_count": 11
        }
      ]
    },
    {
      "cell_type": "markdown",
      "metadata": {
        "id": "cjq2RIcuMjOK"
      },
      "source": [
        "Variância\n"
      ],
      "id": "cjq2RIcuMjOK"
    },
    {
      "cell_type": "code",
      "metadata": {
        "colab": {
          "base_uri": "https://localhost:8080/"
        },
        "id": "u4zmYxkxMocj",
        "outputId": "a779776e-ebc3-4e4b-baf4-39daa2cbfb5d"
      },
      "source": [
        "database.var()"
      ],
      "id": "u4zmYxkxMocj",
      "execution_count": null,
      "outputs": [
        {
          "output_type": "execute_result",
          "data": {
            "text/plain": [
              "defaulter       3.219433e-02\n",
              "student         2.077494e-01\n",
              "balance         2.339802e+05\n",
              "income          1.778660e+08\n",
              "escolaridade    2.889281e+00\n",
              "dtype: float64"
            ]
          },
          "metadata": {},
          "execution_count": 19
        }
      ]
    },
    {
      "cell_type": "markdown",
      "metadata": {
        "id": "i_zF1hSUxbwP"
      },
      "source": [
        "<h1>Correlação das Variáveis</h1>\n",
        "\n",
        "\n"
      ],
      "id": "i_zF1hSUxbwP"
    },
    {
      "cell_type": "code",
      "metadata": {
        "id": "0taqNRIbx50B",
        "colab": {
          "base_uri": "https://localhost:8080/",
          "height": 286
        },
        "outputId": "93b8568e-8dc0-4515-fedb-50f6d966ad40"
      },
      "source": [
        "tabela = pd.DataFrame(database)\n",
        "tabela['defaulter'] = database\n",
        "correlacoes = tabela.corr()\n",
        "sb.heatmap(correlacoes, cmap=\"YlGnBu\", annot = True)"
      ],
      "id": "0taqNRIbx50B",
      "execution_count": null,
      "outputs": [
        {
          "output_type": "execute_result",
          "data": {
            "text/plain": [
              "<matplotlib.axes._subplots.AxesSubplot at 0x7fd710eea990>"
            ]
          },
          "metadata": {},
          "execution_count": 16
        },
        {
          "output_type": "display_data",
          "data": {
            "image/png": "[encoded data removed]",
            "text/plain": [
              "<Figure size 432x288 with 2 Axes>"
            ]
          },
          "metadata": {}
        }
      ]
    },
    {
      "cell_type": "markdown",
      "metadata": {
        "id": "0182dc09-8bfb-4aa2-a0b1-880fe44dfcbf"
      },
      "source": [
        "<h1>Treinamento</h1>"
      ],
      "id": "0182dc09-8bfb-4aa2-a0b1-880fe44dfcbf"
    },
    {
      "cell_type": "code",
      "metadata": {
        "id": "c4e74ebf-3c80-4abe-b834-f7e9f12300d2"
      },
      "source": [
        "# separar variáveis entre X e y\n",
        "X = database.drop('defaulter', axis=1)\n",
        "y = database['defaulter']\n",
        "\n",
        "# dividir o dataset entre treino e teste\n",
        "X_train, X_test, y_train, y_test = train_test_split(X, y, shuffle=True)"
      ],
      "id": "c4e74ebf-3c80-4abe-b834-f7e9f12300d2",
      "execution_count": null,
      "outputs": []
    },
    {
      "cell_type": "markdown",
      "metadata": {
        "id": "f66d919d-6986-4c54-b4fc-cb9b5f8d6d55"
      },
      "source": [
        "<h2>Sem Rebalanceamento</h2>"
      ],
      "id": "f66d919d-6986-4c54-b4fc-cb9b5f8d6d55"
    },
    {
      "cell_type": "code",
      "metadata": {
        "colab": {
          "base_uri": "https://localhost:8080/",
          "height": 349
        },
        "id": "e737ae48-0e93-46e0-9a59-581af679dce3",
        "outputId": "ca844b8b-9e79-4d6f-fb78-9c3c4b26020b"
      },
      "source": [
        "neg, pos = np.bincount(database['defaulter'])\n",
        "total = neg + pos\n",
        "\n",
        "print(\n",
        "    '''\n",
        "    Adimplente : {}\n",
        "    Inadimplente: {} ({:.2f}%)\n",
        "    '''.format(neg, pos, 100*pos/total)\n",
        ")\n",
        "sb.countplot('defaulter', data = database);"
      ],
      "id": "e737ae48-0e93-46e0-9a59-581af679dce3",
      "execution_count": 7,
      "outputs": [
        {
          "output_type": "stream",
          "text": [
            "\n",
            "    Adimplente : 9667\n",
            "    Inadimplente: 333 (3.33%)\n",
            "    \n"
          ],
          "name": "stdout"
        },
        {
          "output_type": "display_data",
          "data": {
            "image/png": "[encoded data removed]",
            "text/plain": [
              "<Figure size 432x288 with 1 Axes>"
            ]
          },
          "metadata": {}
        }
      ]
    },
    {
      "cell_type": "code",
      "metadata": {
        "colab": {
          "base_uri": "https://localhost:8080/",
          "height": 533
        },
        "id": "81aa6015-1151-4a09-948f-c89c09425c7d",
        "outputId": "a567d163-777f-4c5e-c0fc-dce183ab729a"
      },
      "source": [
        "# instanciar e treinar um modelo de Regressão Logística\n",
        "model = LogisticRegression()\n",
        "model.fit(X_train, y_train)\n",
        "\n",
        "# fazer as previsões em cima dos dados de teste\n",
        "y_pred = model.predict(X_test)\n",
        "y_proba = model.predict_proba(X_test)\n",
        "\n",
        "# plotar a matrix de confusão\n",
        "skplt.metrics.plot_confusion_matrix(y_test, y_pred, normalize=True)\n",
        "\n",
        "# imprimir relatório de classificação\n",
        "print(\"Relatório de Classificação:\\n\", classification_report(y_test, y_pred, digits=4))\n",
        "\n",
        "# imprimir a acurácia do modelo\n",
        "print(\"Acurácia: {:.4f}\\n\".format(accuracy_score(y_test, y_pred)))\n",
        "\n",
        "# imprimir a área sob a curva\n",
        "print(\"AUC: {:.4f}\\n\".format(roc_auc_score(y_test, y_pred)))"
      ],
      "id": "81aa6015-1151-4a09-948f-c89c09425c7d",
      "execution_count": null,
      "outputs": [
        {
          "output_type": "stream",
          "text": [
            "Relatório de Classificação:\n",
            "               precision    recall  f1-score   support\n",
            "\n",
            "         0.0     0.9753    0.9934    0.9842      2420\n",
            "         1.0     0.5429    0.2375    0.3304        80\n",
            "\n",
            "    accuracy                         0.9692      2500\n",
            "   macro avg     0.7591    0.6154    0.6573      2500\n",
            "weighted avg     0.9614    0.9692    0.9633      2500\n",
            "\n",
            "Acurácia: 0.9692\n",
            "\n",
            "AUC: 0.6154\n",
            "\n"
          ],
          "name": "stdout"
        },
        {
          "output_type": "display_data",
          "data": {
            "image/png": "[encoded data removed]",
            "text/plain": [
              "<Figure size 432x288 with 2 Axes>"
            ]
          },
          "metadata": {}
        }
      ]
    },
    {
      "cell_type": "markdown",
      "metadata": {
        "tags": [],
        "id": "16b75ff6-06aa-46ef-a30d-9d613fd691cf"
      },
      "source": [
        "<h2>Rebalanceamento</h2>"
      ],
      "id": "16b75ff6-06aa-46ef-a30d-9d613fd691cf"
    },
    {
      "cell_type": "markdown",
      "metadata": {
        "tags": [],
        "id": "2c412f58-9e02-4962-a25b-df470ac59128"
      },
      "source": [
        "<h3>UnderSample</h3>"
      ],
      "id": "2c412f58-9e02-4962-a25b-df470ac59128"
    },
    {
      "cell_type": "code",
      "metadata": {
        "colab": {
          "base_uri": "https://localhost:8080/",
          "height": 337
        },
        "id": "8a905577-b5b3-47d3-bd06-ad445226c1e9",
        "outputId": "e845080f-6ee6-4f16-bf90-071d3e58bae6"
      },
      "source": [
        "# usar técnica under-sampling\n",
        "rus = RandomUnderSampler()\n",
        "X_res, y_res = rus.fit_resample(X_train, y_train)\n",
        "\n",
        "# ver o balanceamento das classes\n",
        "print(pd.Series(y_res).value_counts())\n",
        "\n",
        "# plotar a nova distribuição de classes\n",
        "sb.countplot(y_res)"
      ],
      "id": "8a905577-b5b3-47d3-bd06-ad445226c1e9",
      "execution_count": null,
      "outputs": [
        {
          "output_type": "stream",
          "text": [
            "1    241\n",
            "0    241\n",
            "dtype: int64\n"
          ],
          "name": "stdout"
        },
        {
          "output_type": "execute_result",
          "data": {
            "text/plain": [
              "<matplotlib.axes._subplots.AxesSubplot at 0x7fdb28f82310>"
            ]
          },
          "metadata": {},
          "execution_count": 6
        },
        {
          "output_type": "display_data",
          "data": {
            "image/png": "[encoded data removed]",
            "text/plain": [
              "<Figure size 432x288 with 1 Axes>"
            ]
          },
          "metadata": {}
        }
      ]
    },
    {
      "cell_type": "code",
      "metadata": {
        "colab": {
          "base_uri": "https://localhost:8080/",
          "height": 533
        },
        "id": "48817bca-efc0-4166-885c-dc8cb3c471f6",
        "outputId": "48229219-d2cb-4fca-c207-d7b9d866b116"
      },
      "source": [
        "# instanciar e treinar um modelo de Regressão Logística\n",
        "model_res = LogisticRegression()\n",
        "model_res.fit(X_res, y_res)\n",
        "\n",
        "# fazer as previsões em cima dos dados de teste\n",
        "y_pred_res = model_res.predict(X_test)\n",
        "y_proba_res = model_res.predict_proba(X_test)\n",
        "\n",
        "# plotar a matrix de confusão\n",
        "skplt.metrics.plot_confusion_matrix(y_test, y_pred_res, normalize=True)\n",
        "\n",
        "# imprimir relatório de classificação\n",
        "print(\"Relatório de Classificação:\\n\", classification_report(y_test, y_pred_res, digits=4))\n",
        "\n",
        "# imprimir a acurácia do modelo\n",
        "print(\"Acurácia: {:.4f}\\n\".format(accuracy_score(y_test, y_pred_res)))\n",
        "\n",
        "# imprimir a área sob da curva\n",
        "print(\"AUC: {:.4f}\\n\".format(roc_auc_score(y_test, y_pred_res)))"
      ],
      "id": "48817bca-efc0-4166-885c-dc8cb3c471f6",
      "execution_count": null,
      "outputs": [
        {
          "output_type": "stream",
          "text": [
            "Relatório de Classificação:\n",
            "               precision    recall  f1-score   support\n",
            "\n",
            "           0     0.9949    0.8178    0.8977      2398\n",
            "           1     0.1739    0.9020    0.2916       102\n",
            "\n",
            "    accuracy                         0.8212      2500\n",
            "   macro avg     0.5844    0.8599    0.5946      2500\n",
            "weighted avg     0.9614    0.8212    0.8730      2500\n",
            "\n",
            "Acurácia: 0.8212\n",
            "\n",
            "AUC: 0.8599\n",
            "\n"
          ],
          "name": "stdout"
        },
        {
          "output_type": "display_data",
          "data": {
            "image/png": "[encoded data removed]",
            "text/plain": [
              "<Figure size 432x288 with 2 Axes>"
            ]
          },
          "metadata": {}
        }
      ]
    },
    {
      "cell_type": "markdown",
      "metadata": {
        "tags": [],
        "id": "fe53f635-1e12-4c7c-99ee-298b9ee632df"
      },
      "source": [
        "<h3>OverSample</h3>"
      ],
      "id": "fe53f635-1e12-4c7c-99ee-298b9ee632df"
    },
    {
      "cell_type": "code",
      "metadata": {
        "colab": {
          "base_uri": "https://localhost:8080/",
          "height": 333
        },
        "id": "689bbc02-fd2c-4ec9-ba79-24336f5e247e",
        "outputId": "b1941ddc-2506-4f47-df6a-d5ff431edf95"
      },
      "source": [
        "# usar técnica under-sampling\n",
        "ros = RandomOverSampler(random_state=0)\n",
        "X_res, y_res = ros.fit_resample(X_train, y_train)\n",
        "# ver o balanceamento das classes\n",
        "print(pd.Series(y_res).value_counts())\n",
        "\n",
        "# plotar a nova distribuição de classes\n",
        "sb.countplot(y_res)"
      ],
      "id": "689bbc02-fd2c-4ec9-ba79-24336f5e247e",
      "execution_count": null,
      "outputs": [
        {
          "output_type": "stream",
          "text": [
            "1    7269\n",
            "0    7269\n",
            "dtype: int64\n"
          ],
          "name": "stdout"
        },
        {
          "output_type": "execute_result",
          "data": {
            "text/plain": [
              "<matplotlib.axes._subplots.AxesSubplot at 0x7fd710b2ff90>"
            ]
          },
          "metadata": {},
          "execution_count": 36
        },
        {
          "output_type": "display_data",
          "data": {
            "image/png": "[encoded data removed]",
            "text/plain": [
              "<Figure size 432x288 with 1 Axes>"
            ]
          },
          "metadata": {}
        }
      ]
    },
    {
      "cell_type": "code",
      "metadata": {
        "colab": {
          "base_uri": "https://localhost:8080/",
          "height": 533
        },
        "id": "05e43db9-89cd-468e-a432-41da56e1374f",
        "outputId": "491073c7-6c65-4e6f-97a8-078c871af37b"
      },
      "source": [
        "# instanciar e treinar um modelo de Regressão Logística\n",
        "model_res = LogisticRegression()\n",
        "model_res.fit(X_res, y_res)\n",
        "\n",
        "# fazer as previsões em cima dos dados de teste\n",
        "y_pred_res = model_res.predict(X_test)\n",
        "y_proba_res = model_res.predict_proba(X_test)\n",
        "\n",
        "# plotar a matrix de confusão\n",
        "skplt.metrics.plot_confusion_matrix(y_test, y_pred_res, normalize=True)\n",
        "\n",
        "# imprimir relatório de classificação\n",
        "print(\"Relatório de Classificação:\\n\", classification_report(y_test, y_pred_res, digits=4))\n",
        "\n",
        "# imprimir a acurácia do modelo\n",
        "print(\"Acurácia: {:.4f}\\n\".format(accuracy_score(y_test, y_pred_res)))\n",
        "\n",
        "# imprimir a área sob da curva\n",
        "print(\"AUC: {:.4f}\\n\".format(roc_auc_score(y_test, y_pred_res)))"
      ],
      "id": "05e43db9-89cd-468e-a432-41da56e1374f",
      "execution_count": null,
      "outputs": [
        {
          "output_type": "stream",
          "text": [
            "Relatório de Classificação:\n",
            "               precision    recall  f1-score   support\n",
            "\n",
            "           0     0.9918    0.6518    0.7866      2398\n",
            "           1     0.0963    0.8725    0.1735       102\n",
            "\n",
            "    accuracy                         0.6608      2500\n",
            "   macro avg     0.5440    0.7622    0.4801      2500\n",
            "weighted avg     0.9552    0.6608    0.7616      2500\n",
            "\n",
            "Acurácia: 0.6608\n",
            "\n",
            "AUC: 0.7622\n",
            "\n"
          ],
          "name": "stdout"
        },
        {
          "output_type": "display_data",
          "data": {
            "image/png": "[encoded data removed]",
            "text/plain": [
              "<Figure size 432x288 with 2 Axes>"
            ]
          },
          "metadata": {}
        }
      ]
    },
    {
      "cell_type": "markdown",
      "metadata": {
        "id": "Bk4lddW74igX"
      },
      "source": [
        "<h1>Quadratic Discriminant Analysis<h1>"
      ],
      "id": "Bk4lddW74igX"
    },
    {
      "cell_type": "code",
      "metadata": {
        "colab": {
          "base_uri": "https://localhost:8080/",
          "height": 333
        },
        "id": "2jKBITs34ubR",
        "outputId": "2cdfbb0f-9a78-4b03-db97-b84493be4036"
      },
      "source": [
        "# usar técnica under-sampling\n",
        "ros = RandomOverSampler(random_state=0)\n",
        "X_res, y_res = ros.fit_resample(X_train, y_train)\n",
        "# ver o balanceamento das classes\n",
        "print(pd.Series(y_res).value_counts())\n",
        "\n",
        "# plotar a nova distribuição de classes\n",
        "sb.countplot(y_res)"
      ],
      "id": "2jKBITs34ubR",
      "execution_count": null,
      "outputs": [
        {
          "output_type": "stream",
          "text": [
            "1    7269\n",
            "0    7269\n",
            "dtype: int64\n"
          ],
          "name": "stdout"
        },
        {
          "output_type": "execute_result",
          "data": {
            "text/plain": [
              "<matplotlib.axes._subplots.AxesSubplot at 0x7fd710b8f7d0>"
            ]
          },
          "metadata": {},
          "execution_count": 32
        },
        {
          "output_type": "display_data",
          "data": {
            "image/png": "[encoded data removed]",
            "text/plain": [
              "<Figure size 432x288 with 1 Axes>"
            ]
          },
          "metadata": {}
        }
      ]
    },
    {
      "cell_type": "code",
      "metadata": {
        "colab": {
          "base_uri": "https://localhost:8080/",
          "height": 533
        },
        "id": "juFB-wjb4ydf",
        "outputId": "c30ac248-fe7a-4d5d-bed3-7fcdd8992d2c"
      },
      "source": [
        "# instanciar e treinar um modelo de Quadratic Discriminant Analysis\n",
        "model_res = QuadraticDiscriminantAnalysis()\n",
        "model_res.fit(X_res, y_res)\n",
        "\n",
        "# fazer as previsões em cima dos dados de teste\n",
        "y_pred_res = model_res.predict(X_test)\n",
        "y_proba_res = model_res.predict_proba(X_test)\n",
        "\n",
        "# plotar a matrix de confusão\n",
        "skplt.metrics.plot_confusion_matrix(y_test, y_pred_res, normalize=True)\n",
        "\n",
        "# imprimir relatório de classificação\n",
        "print(\"Relatório de Classificação:\\n\", classification_report(y_test, y_pred_res, digits=4))\n",
        "\n",
        "# imprimir a acurácia do modelo\n",
        "print(\"Acurácia: {:.4f}\\n\".format(accuracy_score(y_test, y_pred_res)))\n",
        "\n",
        "# imprimir a área sob da curva\n",
        "print(\"AUC: {:.4f}\\n\".format(roc_auc_score(y_test, y_pred_res)))"
      ],
      "id": "juFB-wjb4ydf",
      "execution_count": null,
      "outputs": [
        {
          "output_type": "stream",
          "text": [
            "Relatório de Classificação:\n",
            "               precision    recall  f1-score   support\n",
            "\n",
            "           0     0.9960    0.8411    0.9121      2398\n",
            "           1     0.1979    0.9216    0.3258       102\n",
            "\n",
            "    accuracy                         0.8444      2500\n",
            "   macro avg     0.5970    0.8813    0.6189      2500\n",
            "weighted avg     0.9635    0.8444    0.8881      2500\n",
            "\n",
            "Acurácia: 0.8444\n",
            "\n",
            "AUC: 0.8813\n",
            "\n"
          ],
          "name": "stdout"
        },
        {
          "output_type": "display_data",
          "data": {
            "image/png": "[encoded data removed]",
            "text/plain": [
              "<Figure size 432x288 with 2 Axes>"
            ]
          },
          "metadata": {}
        }
      ]
    },
    {
      "cell_type": "markdown",
      "metadata": {
        "id": "WysclmMU49TS"
      },
      "source": [
        "<h1>K NN<h1>"
      ],
      "id": "WysclmMU49TS"
    },
    {
      "cell_type": "markdown",
      "metadata": {
        "id": "Tm6fvaGn49KB"
      },
      "source": [
        ""
      ],
      "id": "Tm6fvaGn49KB"
    },
    {
      "cell_type": "code",
      "metadata": {
        "colab": {
          "base_uri": "https://localhost:8080/",
          "height": 333
        },
        "id": "7llOcCyI5BiL",
        "outputId": "cbe3e910-9d3f-49bf-f5bf-be3bf253ae7a"
      },
      "source": [
        "# usar técnica under-sampling\n",
        "ros = RandomOverSampler(random_state=0)\n",
        "X_res, y_res = ros.fit_resample(X_train, y_train)\n",
        "# ver o balanceamento das classes\n",
        "print(pd.Series(y_res).value_counts())\n",
        "\n",
        "# plotar a nova distribuição de classes\n",
        "sb.countplot(y_res)"
      ],
      "id": "7llOcCyI5BiL",
      "execution_count": null,
      "outputs": [
        {
          "output_type": "stream",
          "text": [
            "1    7269\n",
            "0    7269\n",
            "dtype: int64\n"
          ],
          "name": "stdout"
        },
        {
          "output_type": "execute_result",
          "data": {
            "text/plain": [
              "<matplotlib.axes._subplots.AxesSubplot at 0x7fd71b7ca290>"
            ]
          },
          "metadata": {},
          "execution_count": 45
        },
        {
          "output_type": "display_data",
          "data": {
            "image/png": "[encoded data removed]",
            "text/plain": [
              "<Figure size 432x288 with 1 Axes>"
            ]
          },
          "metadata": {}
        }
      ]
    },
    {
      "cell_type": "code",
      "metadata": {
        "colab": {
          "base_uri": "https://localhost:8080/",
          "height": 533
        },
        "id": "MyTmYLYg5DDF",
        "outputId": "3e9a7264-9bc2-4833-f90a-eee65f2c7b71"
      },
      "source": [
        "# instanciar e treinar um modelo de Regressão Logística\n",
        "model_res = KNeighborsClassifier()\n",
        "model_res.fit(X_res, y_res)\n",
        "\n",
        "# fazer as previsões em cima dos dados de teste\n",
        "y_pred_res = model_res.predict(X_test)\n",
        "y_proba_res = model_res.predict_proba(X_test)\n",
        "\n",
        "# plotar a matrix de confusão\n",
        "skplt.metrics.plot_confusion_matrix(y_test, y_pred_res, normalize=True)\n",
        "\n",
        "# imprimir relatório de classificação\n",
        "print(\"Relatório de Classificação:\\n\", classification_report(y_test, y_pred_res, digits=4))\n",
        "\n",
        "# imprimir a acurácia do modelo\n",
        "print(\"Acurácia: {:.4f}\\n\".format(accuracy_score(y_test, y_pred_res)))\n",
        "\n",
        "# imprimir a área sob da curva\n",
        "print(\"AUC: {:.4f}\\n\".format(roc_auc_score(y_test, y_pred_res)))"
      ],
      "id": "MyTmYLYg5DDF",
      "execution_count": null,
      "outputs": [
        {
          "output_type": "stream",
          "text": [
            "Relatório de Classificação:\n",
            "               precision    recall  f1-score   support\n",
            "\n",
            "           0     0.9805    0.9429    0.9613      2398\n",
            "           1     0.2938    0.5588    0.3851       102\n",
            "\n",
            "    accuracy                         0.9272      2500\n",
            "   macro avg     0.6372    0.7508    0.6732      2500\n",
            "weighted avg     0.9525    0.9272    0.9378      2500\n",
            "\n",
            "Acurácia: 0.9272\n",
            "\n",
            "AUC: 0.7508\n",
            "\n"
          ],
          "name": "stdout"
        },
        {
          "output_type": "display_data",
          "data": {
            "image/png": "[encoded data removed]",
            "text/plain": [
              "<Figure size 432x288 with 2 Axes>"
            ]
          },
          "metadata": {}
        }
      ]
    }
  ]
}