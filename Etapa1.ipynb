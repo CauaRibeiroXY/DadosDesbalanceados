{
  "nbformat": 4,
  "nbformat_minor": 5,
  "metadata": {
    "kernelspec": {
      "display_name": "Python 3 (ipykernel)",
      "language": "python",
      "name": "python3"
    },
    "language_info": {
      "codemirror_mode": {
        "name": "ipython",
        "version": 3
      },
      "file_extension": ".py",
      "mimetype": "text/x-python",
      "name": "python",
      "nbconvert_exporter": "python",
      "pygments_lexer": "ipython3",
      "version": "3.9.6"
    },
    "colab": {
      "name": "Etapa1.ipynb",
      "provenance": [],
      "collapsed_sections": []
    }
  },
  "cells": [
    {
      "cell_type": "code",
      "metadata": {
        "id": "ac738e81-c8a3-432a-bdd2-39d22e03a530"
      },
      "source": [
        "pip install scikit-plot"
      ],
      "id": "ac738e81-c8a3-432a-bdd2-39d22e03a530",
      "execution_count": null,
      "outputs": []
    },
    {
      "cell_type": "code",
      "metadata": {
        "id": "5c174405-300e-4693-b95a-ab8af8804212"
      },
      "source": [
        "# - Pandas\n",
        "import pandas as pd\n",
        "# - numpy\n",
        "import numpy as np\n",
        "# - seaborn\n",
        "import seaborn as sb\n",
        "# - scikitplot\n",
        "import scikitplot as skplt\n",
        "# - sklearn\n",
        "from sklearn import datasets\n",
        "from sklearn.metrics import classification_report, confusion_matrix\n",
        "from sklearn.model_selection import train_test_split\n",
        "from sklearn.linear_model import LogisticRegression\n",
        "from sklearn.neighbors import KNeighborsClassifier\n",
        "from sklearn.metrics import roc_auc_score, roc_curve, accuracy_score\n",
        "# - imblearn\n",
        "from imblearn.under_sampling import RandomUnderSampler\n",
        "from imblearn.over_sampling import RandomOverSampler\n",
        "\n",
        "import warnings\n",
        "\n",
        "sb.set_style(\"dark\")\n",
        "warnings.filterwarnings('ignore')"
      ],
      "id": "5c174405-300e-4693-b95a-ab8af8804212",
      "execution_count": null,
      "outputs": []
    },
    {
      "cell_type": "code",
      "metadata": {
        "colab": {
          "base_uri": "https://localhost:8080/",
          "height": 204
        },
        "id": "a3a07fcc-b656-4069-8d18-3dfedca4b9df",
        "outputId": "0c8183b5-3098-4583-a5ce-e2f9a5531d46"
      },
      "source": [
        "database = pd.read_csv('credit_card_defaulter.csv')\n",
        "database.head()"
      ],
      "id": "a3a07fcc-b656-4069-8d18-3dfedca4b9df",
      "execution_count": null,
      "outputs": [
        {
          "output_type": "execute_result",
          "data": {
            "text/html": [
              "<div>\n",
              "<style scoped>\n",
              "    .dataframe tbody tr th:only-of-type {\n",
              "        vertical-align: middle;\n",
              "    }\n",
              "\n",
              "    .dataframe tbody tr th {\n",
              "        vertical-align: top;\n",
              "    }\n",
              "\n",
              "    .dataframe thead th {\n",
              "        text-align: right;\n",
              "    }\n",
              "</style>\n",
              "<table border=\"1\" class=\"dataframe\">\n",
              "  <thead>\n",
              "    <tr style=\"text-align: right;\">\n",
              "      <th></th>\n",
              "      <th>indice</th>\n",
              "      <th>defaulter</th>\n",
              "      <th>student</th>\n",
              "      <th>balance</th>\n",
              "      <th>income</th>\n",
              "    </tr>\n",
              "  </thead>\n",
              "  <tbody>\n",
              "    <tr>\n",
              "      <th>0</th>\n",
              "      <td>1</td>\n",
              "      <td>0</td>\n",
              "      <td>0</td>\n",
              "      <td>729.526495</td>\n",
              "      <td>44361.62507</td>\n",
              "    </tr>\n",
              "    <tr>\n",
              "      <th>1</th>\n",
              "      <td>2</td>\n",
              "      <td>0</td>\n",
              "      <td>1</td>\n",
              "      <td>817.180407</td>\n",
              "      <td>12106.13470</td>\n",
              "    </tr>\n",
              "    <tr>\n",
              "      <th>2</th>\n",
              "      <td>3</td>\n",
              "      <td>0</td>\n",
              "      <td>0</td>\n",
              "      <td>1073.549164</td>\n",
              "      <td>31767.13895</td>\n",
              "    </tr>\n",
              "    <tr>\n",
              "      <th>3</th>\n",
              "      <td>4</td>\n",
              "      <td>0</td>\n",
              "      <td>0</td>\n",
              "      <td>529.250605</td>\n",
              "      <td>35704.49394</td>\n",
              "    </tr>\n",
              "    <tr>\n",
              "      <th>4</th>\n",
              "      <td>5</td>\n",
              "      <td>0</td>\n",
              "      <td>0</td>\n",
              "      <td>785.655883</td>\n",
              "      <td>38463.49588</td>\n",
              "    </tr>\n",
              "  </tbody>\n",
              "</table>\n",
              "</div>"
            ],
            "text/plain": [
              "   indice  defaulter  student      balance       income\n",
              "0       1          0        0   729.526495  44361.62507\n",
              "1       2          0        1   817.180407  12106.13470\n",
              "2       3          0        0  1073.549164  31767.13895\n",
              "3       4          0        0   529.250605  35704.49394\n",
              "4       5          0        0   785.655883  38463.49588"
            ]
          },
          "metadata": {},
          "execution_count": 126
        }
      ]
    },
    {
      "cell_type": "markdown",
      "metadata": {
        "id": "0182dc09-8bfb-4aa2-a0b1-880fe44dfcbf"
      },
      "source": [
        "<h1>Treinamento</h1>"
      ],
      "id": "0182dc09-8bfb-4aa2-a0b1-880fe44dfcbf"
    },
    {
      "cell_type": "code",
      "metadata": {
        "id": "c4e74ebf-3c80-4abe-b834-f7e9f12300d2"
      },
      "source": [
        "# separar variáveis entre X e y\n",
        "X = database.drop('defaulter', axis=1)\n",
        "y = database['defaulter']\n",
        "\n",
        "# dividir o dataset entre treino e teste\n",
        "X_train, X_test, y_train, y_test = train_test_split(X, y, shuffle=True)"
      ],
      "id": "c4e74ebf-3c80-4abe-b834-f7e9f12300d2",
      "execution_count": null,
      "outputs": []
    },
    {
      "cell_type": "markdown",
      "metadata": {
        "id": "f66d919d-6986-4c54-b4fc-cb9b5f8d6d55"
      },
      "source": [
        "<h2>Sem Rebalanceamento</h2>"
      ],
      "id": "f66d919d-6986-4c54-b4fc-cb9b5f8d6d55"
    },
    {
      "cell_type": "code",
      "metadata": {
        "colab": {
          "base_uri": "https://localhost:8080/",
          "height": 348
        },
        "id": "e737ae48-0e93-46e0-9a59-581af679dce3",
        "outputId": "daef0ff1-adf8-4468-f236-e7780bdadc99"
      },
      "source": [
        "neg, pos = np.bincount(database['defaulter'])\n",
        "\n",
        "\n",
        "print(\n",
        "    '''\n",
        "    Inadimplentes : {}\n",
        "    Adimplente : {} ({:.2f}%)\n",
        "    '''.format(neg, pos, 100*pos/total)\n",
        ")\n",
        "sb.countplot('defaulter', data = database);"
      ],
      "id": "e737ae48-0e93-46e0-9a59-581af679dce3",
      "execution_count": null,
      "outputs": [
        {
          "output_type": "stream",
          "text": [
            "\n",
            "    Inadimplentes : 9667\n",
            "    Adimplente : 333 (3.33%)\n",
            "    \n"
          ],
          "name": "stdout"
        },
        {
          "output_type": "display_data",
          "data": {
            "image/png": "[encoded data removed]",
            "text/plain": [
              "<Figure size 432x288 with 1 Axes>"
            ]
          },
          "metadata": {}
        }
      ]
    },
    {
      "cell_type": "code",
      "metadata": {
        "colab": {
          "base_uri": "https://localhost:8080/",
          "height": 533
        },
        "id": "81aa6015-1151-4a09-948f-c89c09425c7d",
        "outputId": "05db2168-e29c-47f4-8520-3686a242f850"
      },
      "source": [
        "# instanciar e treinar um modelo de Regressão Logística\n",
        "model = LogisticRegression()\n",
        "model.fit(X_train, y_train)\n",
        "\n",
        "# fazer as previsões em cima dos dados de teste\n",
        "y_pred = model.predict(X_test)\n",
        "y_proba = model.predict_proba(X_test)\n",
        "\n",
        "# plotar a matrix de confusão\n",
        "skplt.metrics.plot_confusion_matrix(y_test, y_pred, normalize=True)\n",
        "\n",
        "# imprimir relatório de classificação\n",
        "print(\"Relatório de Classificação:\\n\", classification_report(y_test, y_pred, digits=4))\n",
        "\n",
        "# imprimir a acurácia do modelo\n",
        "print(\"Acurácia: {:.4f}\\n\".format(accuracy_score(y_test, y_pred)))\n",
        "\n",
        "# imprimir a área sob a curva\n",
        "print(\"AUC: {:.4f}\\n\".format(roc_auc_score(y_test, y_pred)))"
      ],
      "id": "81aa6015-1151-4a09-948f-c89c09425c7d",
      "execution_count": null,
      "outputs": [
        {
          "output_type": "stream",
          "text": [
            "Relatório de Classificação:\n",
            "               precision    recall  f1-score   support\n",
            "\n",
            "           0     0.9679    0.9975    0.9825      2418\n",
            "           1     0.2500    0.0244    0.0444        82\n",
            "\n",
            "    accuracy                         0.9656      2500\n",
            "   macro avg     0.6089    0.5110    0.5135      2500\n",
            "weighted avg     0.9444    0.9656    0.9517      2500\n",
            "\n",
            "Acurácia: 0.9656\n",
            "\n",
            "AUC: 0.5110\n",
            "\n"
          ],
          "name": "stdout"
        },
        {
          "output_type": "display_data",
          "data": {
            "image/png": "[encoded data removed]",
            "text/plain": [
              "<Figure size 432x288 with 2 Axes>"
            ]
          },
          "metadata": {}
        }
      ]
    },
    {
      "cell_type": "markdown",
      "metadata": {
        "tags": [],
        "id": "16b75ff6-06aa-46ef-a30d-9d613fd691cf"
      },
      "source": [
        "<h2>Rebalanceamento</h2>"
      ],
      "id": "16b75ff6-06aa-46ef-a30d-9d613fd691cf"
    },
    {
      "cell_type": "markdown",
      "metadata": {
        "tags": [],
        "id": "2c412f58-9e02-4962-a25b-df470ac59128"
      },
      "source": [
        "<h3>UnderSample</h3>"
      ],
      "id": "2c412f58-9e02-4962-a25b-df470ac59128"
    },
    {
      "cell_type": "code",
      "metadata": {
        "colab": {
          "base_uri": "https://localhost:8080/",
          "height": 333
        },
        "id": "8a905577-b5b3-47d3-bd06-ad445226c1e9",
        "outputId": "daa0dbbe-dee1-4f7d-f574-ec76638acf32"
      },
      "source": [
        "# usar técnica under-sampling\n",
        "rus = RandomUnderSampler()\n",
        "X_res, y_res = rus.fit_resample(X_train, y_train)\n",
        "\n",
        "# ver o balanceamento das classes\n",
        "print(pd.Series(y_res).value_counts())\n",
        "\n",
        "# plotar a nova distribuição de classes\n",
        "sb.countplot(y_res)"
      ],
      "id": "8a905577-b5b3-47d3-bd06-ad445226c1e9",
      "execution_count": null,
      "outputs": [
        {
          "output_type": "stream",
          "text": [
            "1    251\n",
            "0    251\n",
            "dtype: int64\n"
          ],
          "name": "stdout"
        },
        {
          "output_type": "execute_result",
          "data": {
            "text/plain": [
              "<matplotlib.axes._subplots.AxesSubplot at 0x7fa1d4da89d0>"
            ]
          },
          "metadata": {},
          "execution_count": 130
        },
        {
          "output_type": "display_data",
          "data": {
            "image/png": "[encoded data removed]",
            "text/plain": [
              "<Figure size 432x288 with 1 Axes>"
            ]
          },
          "metadata": {}
        }
      ]
    },
    {
      "cell_type": "code",
      "metadata": {
        "colab": {
          "base_uri": "https://localhost:8080/",
          "height": 533
        },
        "id": "48817bca-efc0-4166-885c-dc8cb3c471f6",
        "outputId": "632e03d9-6ec0-4e75-e58d-5a4ec61f96fa"
      },
      "source": [
        "# instanciar e treinar um modelo de Regressão Logística\n",
        "model_res = LogisticRegression()\n",
        "model_res.fit(X_res, y_res)\n",
        "\n",
        "# fazer as previsões em cima dos dados de teste\n",
        "y_pred_res = model_res.predict(X_test)\n",
        "y_proba_res = model_res.predict_proba(X_test)\n",
        "\n",
        "# plotar a matrix de confusão\n",
        "skplt.metrics.plot_confusion_matrix(y_test, y_pred_res, normalize=True)\n",
        "\n",
        "# imprimir relatório de classificação\n",
        "print(\"Relatório de Classificação:\\n\", classification_report(y_test, y_pred_res, digits=4))\n",
        "\n",
        "# imprimir a acurácia do modelo\n",
        "print(\"Acurácia: {:.4f}\\n\".format(accuracy_score(y_test, y_pred_res)))\n",
        "\n",
        "# imprimir a área sob da curva\n",
        "print(\"AUC: {:.4f}\\n\".format(roc_auc_score(y_test, y_pred_res)))"
      ],
      "id": "48817bca-efc0-4166-885c-dc8cb3c471f6",
      "execution_count": null,
      "outputs": [
        {
          "output_type": "stream",
          "text": [
            "Relatório de Classificação:\n",
            "               precision    recall  f1-score   support\n",
            "\n",
            "           0     0.9785    0.9599    0.9691      2418\n",
            "           1     0.2422    0.3780    0.2952        82\n",
            "\n",
            "    accuracy                         0.9408      2500\n",
            "   macro avg     0.6103    0.6690    0.6322      2500\n",
            "weighted avg     0.9543    0.9408    0.9470      2500\n",
            "\n",
            "Acurácia: 0.9408\n",
            "\n",
            "AUC: 0.6690\n",
            "\n"
          ],
          "name": "stdout"
        },
        {
          "output_type": "display_data",
          "data": {
            "image/png": "[encoded data removed]",
            "text/plain": [
              "<Figure size 432x288 with 2 Axes>"
            ]
          },
          "metadata": {}
        }
      ]
    },
    {
      "cell_type": "markdown",
      "metadata": {
        "tags": [],
        "id": "fe53f635-1e12-4c7c-99ee-298b9ee632df"
      },
      "source": [
        "<h3>OverSample</h3>"
      ],
      "id": "fe53f635-1e12-4c7c-99ee-298b9ee632df"
    },
    {
      "cell_type": "code",
      "metadata": {
        "colab": {
          "base_uri": "https://localhost:8080/",
          "height": 333
        },
        "id": "689bbc02-fd2c-4ec9-ba79-24336f5e247e",
        "outputId": "e3e4bffc-4891-4a40-cb1e-57c0cf30df77"
      },
      "source": [
        "# usar técnica under-sampling\n",
        "ros = RandomOverSampler(random_state=0)\n",
        "X_res, y_res = ros.fit_resample(X_train, y_train)\n",
        "# ver o balanceamento das classes\n",
        "print(pd.Series(y_res).value_counts())\n",
        "\n",
        "# plotar a nova distribuição de classes\n",
        "sb.countplot(y_res)"
      ],
      "id": "689bbc02-fd2c-4ec9-ba79-24336f5e247e",
      "execution_count": null,
      "outputs": [
        {
          "output_type": "stream",
          "text": [
            "1    7249\n",
            "0    7249\n",
            "dtype: int64\n"
          ],
          "name": "stdout"
        },
        {
          "output_type": "execute_result",
          "data": {
            "text/plain": [
              "<matplotlib.axes._subplots.AxesSubplot at 0x7fa1d4c69690>"
            ]
          },
          "metadata": {},
          "execution_count": 132
        },
        {
          "output_type": "display_data",
          "data": {
            "image/png": "[encoded data removed]",
            "text/plain": [
              "<Figure size 432x288 with 1 Axes>"
            ]
          },
          "metadata": {}
        }
      ]
    },
    {
      "cell_type": "code",
      "metadata": {
        "colab": {
          "base_uri": "https://localhost:8080/",
          "height": 533
        },
        "id": "05e43db9-89cd-468e-a432-41da56e1374f",
        "outputId": "9db19b48-bb6c-464e-ae06-fcbd2c96214b"
      },
      "source": [
        "# instanciar e treinar um modelo de Regressão Logística\n",
        "model_res = LogisticRegression()\n",
        "model_res.fit(X_res, y_res)\n",
        "\n",
        "# fazer as previsões em cima dos dados de teste\n",
        "y_pred_res = model_res.predict(X_test)\n",
        "y_proba_res = model_res.predict_proba(X_test)\n",
        "\n",
        "# plotar a matrix de confusão\n",
        "skplt.metrics.plot_confusion_matrix(y_test, y_pred_res, normalize=True)\n",
        "\n",
        "# imprimir relatório de classificação\n",
        "print(\"Relatório de Classificação:\\n\", classification_report(y_test, y_pred_res, digits=4))\n",
        "\n",
        "# imprimir a acurácia do modelo\n",
        "print(\"Acurácia: {:.4f}\\n\".format(accuracy_score(y_test, y_pred_res)))\n",
        "\n",
        "# imprimir a área sob da curva\n",
        "print(\"AUC: {:.4f}\\n\".format(roc_auc_score(y_test, y_pred_res)))"
      ],
      "id": "05e43db9-89cd-468e-a432-41da56e1374f",
      "execution_count": null,
      "outputs": [
        {
          "output_type": "stream",
          "text": [
            "Relatório de Classificação:\n",
            "               precision    recall  f1-score   support\n",
            "\n",
            "           0     0.9942    0.8515    0.9174      2418\n",
            "           1     0.1632    0.8537    0.2740        82\n",
            "\n",
            "    accuracy                         0.8516      2500\n",
            "   macro avg     0.5787    0.8526    0.5957      2500\n",
            "weighted avg     0.9669    0.8516    0.8963      2500\n",
            "\n",
            "Acurácia: 0.8516\n",
            "\n",
            "AUC: 0.8526\n",
            "\n"
          ],
          "name": "stdout"
        },
        {
          "output_type": "display_data",
          "data": {
            "image/png": "[encoded data removed]",
            "text/plain": [
              "<Figure size 432x288 with 2 Axes>"
            ]
          },
          "metadata": {}
        }
      ]
    }
  ]
}